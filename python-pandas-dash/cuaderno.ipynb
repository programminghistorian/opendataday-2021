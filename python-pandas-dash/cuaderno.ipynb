{
 "metadata": {
  "language_info": {
   "codemirror_mode": {
    "name": "ipython",
    "version": 3
   },
   "file_extension": ".py",
   "mimetype": "text/x-python",
   "name": "python",
   "nbconvert_exporter": "python",
   "pygments_lexer": "ipython3",
   "version": "3.8.5-final"
  },
  "orig_nbformat": 2,
  "kernelspec": {
   "name": "python3",
   "display_name": "Python 3.8.5 64-bit ('datamooc': conda)",
   "metadata": {
    "interpreter": {
     "hash": "81c2c383596c9be05326fd2639876d79d2aa36abbad0d42dcc9c2ac2e75fda39"
    }
   }
  }
 },
 "nbformat": 4,
 "nbformat_minor": 2,
 "cells": [
  {
   "source": [
    "# Open Data Day\n",
    "## Visualización de datos abiertos con Python >> Pandas >> Dash\n",
    "\n",
    "### >> ¿Open Data what?\n",
    "\n",
    "<img src=\"http://www.agaargentina.org/wp-content/uploads/2016/10/datos-abiertos-1.png\">\n",
    "\n",
    "* Principio del gobierno digital y abierto\n",
    "* Datos disponibles para todos los ciudadanos y ciudadanas\n",
    "* Datos oficiales, confiables y verificables de instituciones públicas\n",
    "\n",
    "### >> La información no está estructurada tal como la quisieramos tener.\n",
    "\n",
    "* No todos los datos están estructurados.\n",
    "* Abiertos no siempre se entienden como analizables.\n",
    "* En ocasiones, datos abiertos se entiendes como informes abiertos. "
   ],
   "cell_type": "markdown",
   "metadata": {}
  },
  {
   "source": [
    "## Escoger una fuente de datos\n",
    "\n",
    "<img src=\"imgs/tipos_de_archivo.jpg\">\n",
    "\n",
    "\"Icons made by Freepik, Smashicons, and Smartline from [www.flaticon.com]\"\n"
   ],
   "cell_type": "markdown",
   "metadata": {}
  },
  {
   "cell_type": "code",
   "execution_count": 12,
   "metadata": {},
   "outputs": [
    {
     "output_type": "stream",
     "name": "stdout",
     "text": [
      "https://datos.cdmx.gob.mx/dataset/3abd0da2-38e4-4c73-b386-3e0ef7b48d55/resource/634a7992-5aa3-4e6c-a081-191ef4dbb463/download/diagnostico-cdmx_2015_educacion.csv\ncsv_data/diagnostico_educacion_2015.csv\n"
     ]
    }
   ],
   "source": [
    "import pandas as pd\n",
    "\n",
    "remoto = 'https://datos.cdmx.gob.mx/dataset/3abd0da2-38e4-4c73-b386-3e0ef7b48d55/resource/634a7992-5aa3-4e6c-a081-191ef4dbb463/download/diagnostico-cdmx_2015_educacion.csv'\n",
    "local = 'csv_data/diagnostico_educacion_2015.csv'\n",
    "\n",
    "print(remoto)\n",
    "print(local)"
   ]
  },
  {
   "source": [
    "### ¿Qué hicimos en este paso?\n",
    "\n",
    "Simplemente *declaramos* unas *variables* (`remoto` y `local`) a las cuales les asignamos un valor: la ruta donde se encuentra el archivo csv con los datos.\n",
    "\n",
    "En este caso no hemos traído el objeto (el archivo `csv`), solamente escribimos la dirección de su ubicación."
   ],
   "cell_type": "markdown",
   "metadata": {}
  },
  {
   "source": [
    "# ¿Cómo importar datos para ser procesados?\n",
    "\n",
    "## La forma relativamente fácil\n",
    "\n",
    "Con las librerías nativas de python `csv` y `urllib.request`\n"
   ],
   "cell_type": "markdown",
   "metadata": {}
  },
  {
   "cell_type": "code",
   "execution_count": 13,
   "metadata": {
    "tags": [
     "outputPrepend"
    ]
   },
   "outputs": [
    {
     "output_type": "stream",
     "name": "stdout",
     "text": [
      "281000.0', '210261426172000.0', 'Educacion', 'Tláhuac']\n['852', '2015.0', '11.0', 'Pobreza moderada', 'Hombre', '30-44', '11575.0', '949873755397000.0', '136512624460000.0', 'Educacion', 'Tláhuac']\n['853', '2015.0', '11.0', 'Pobreza moderada', 'Mujer', '60 y mas', '5768.0', '432037037664000.0', '721562962336000.0', 'Educacion', 'Tláhuac']\n['854', '2015.0', '11.0', 'Satisfaccion mínima', 'Hombre', '60 y mas', '4685.0', '353869987071000.0', '583130012929000.0', 'Educacion', 'Tláhuac']\n['855', '2015.0', '11.0', 'Estrato medio', 'Hombre', '0-11', '10347.0', '891676735956000.0', '117772326404000.0', 'Educacion', 'Tláhuac']\n['856', '2015.0', '11.0', 'Estrato medio', 'Hombre', '30-44', '13642.0', '115931803554000.0', '156908196446000.0', 'Educacion', 'Tláhuac']\n['857', '2015.0', '11.0', 'Estrato medio', 'Mujer', '30-44', '14934.0', '13024009063700.0', '16843990936300.0', 'Educacion', 'Tláhuac']\n['858', '2015.0', '11.0', 'Estrato alto', 'Hombre', '12-29', '274.0', '100181686033000.0', '447818313967000.0', 'Educacion', 'Tláhuac']\n['859', '2015.0', '11.0', 'Estrato alto', 'Hombre', '60 y mas', '345.0', '92901578401100.0', '597098421599000.0', 'Educacion', 'Tláhuac']\n['860', '2015.0', '12.0', 'Pobreza muy alta', 'Hombre', '0-11', '3458.0', '263114759886000.0', '428485240114000.0', 'Educacion', 'Tlalpan']\n['861', '2015.0', '12.0', 'Pobreza muy alta', 'Hombre', '60 y mas', '3912.0', '322270068605000.0', '460129931395000.0', 'Educacion', 'Tlalpan']\n['862', '2015.0', '12.0', 'Pobreza muy alta', 'Mujer', '0-11', '3156.0', '24471989805700.0', '38648010194300.0', 'Educacion', 'Tlalpan']\n['863', '2015.0', '12.0', 'Pobreza muy alta', 'Mujer', 'No especificado', '199.0', '423250183272000.0', '355674981673000.0', 'Educacion', 'Tlalpan']\n['864', '2015.0', '12.0', 'Pobreza alta', 'Hombre', '45-59', '1269.0', '900531161705000.0', '163746883829000.0', 'Educacion', 'Tlalpan']\n['865', '2015.0', '12.0', 'Pobreza alta', 'Mujer', '60 y mas', '2209.0', '179244654900000.0', '262555345100000.0', 'Educacion', 'Tlalpan']\n['866', '2015.0', '12.0', 'Pobreza moderada', 'Hombre', '30-44', '18525.0', '154898417169000.0', '215601582831000.0', 'Educacion', 'Tlalpan']\n['867', '2015.0', '12.0', 'Satisfaccion mínima', 'Hombre', '0-11', '24902.0', '21536189640800.0', '28267810359200.0', 'Educacion', 'Tlalpan']\n['868', '2015.0', '12.0', 'Satisfaccion mínima', 'Hombre', '12-29', '34218.0', '297993039222000.0', '386366960778000.0', 'Educacion', 'Tlalpan']\n['869', '2015.0', '12.0', 'Satisfaccion mínima', 'Hombre', '60 y mas', '6014.0', '500068795641000.0', '702731204359000.0', 'Educacion', 'Tlalpan']\n['870', '2015.0', '12.0', 'Satisfaccion mínima', 'Mujer', '30-44', '18597.0', '16044093649200.0', '21149906350800.0', 'Educacion', 'Tlalpan']\n['871', '2015.0', '12.0', 'Satisfaccion mínima', 'Mujer', '45-59', '13087.0', '110247681887000.0', '151492318113000.0', 'Educacion', 'Tlalpan']\n['872', '2015.0', '12.0', 'Satisfaccion mínima', 'Mujer', '60 y mas', '8980.0', '748121965260000.0', '104787803474000.0', 'Educacion', 'Tlalpan']\n['873', '2015.0', '12.0', 'Estrato medio', 'Hombre', '12-29', '29497.0', '252608279471000.0', '337331720529000.0', 'Educacion', 'Tlalpan']\n['874', '2015.0', '12.0', 'Estrato alto', 'Hombre', '45-59', '4928.0', '372539547945000.0', '613060452055000.0', 'Educacion', 'Tlalpan']\n['875', '2015.0', '12.0', 'Estrato alto', 'Mujer', '0-11', '7673.0', '671493048369000.0', '863106951631000.0', 'Educacion', 'Tlalpan']\n['876', '2015.0', '12.0', 'Estrato alto', 'Mujer', '45-59', '3968.0', '29899604456200.0', '49460395543800.0', 'Educacion', 'Tlalpan']\n['877', '2015.0', '12.0', 'Estrato alto', 'Mujer', '60 y mas', '3136.0', '22706412904500.0', '40013587095500.0', 'Educacion', 'Tlalpan']\n['878', '2015.0', '13.0', 'Pobreza muy alta', 'Hombre', '60 y mas', '2850.0', '179842323002000.0', '390157676998000.0', 'Educacion', 'Xochimilco']\n['879', '2015.0', '13.0', 'Pobreza muy alta', 'Mujer', '0-11', '2107.0', '147645819537000.0', '273754180463000.0', 'Educacion', 'Xochimilco']\n['880', '2015.0', '13.0', 'Pobreza muy alta', 'Mujer', '45-59', '3549.0', '193026455130000.0', '516773544870000.0', 'Educacion', 'Xochimilco']\n['881', '2015.0', '13.0', 'Pobreza muy alta', 'Mujer', 'No especificado', '122.0', '123529337555000.0', '231647066244000.0', 'Educacion', 'Xochimilco']\n['882', '2015.0', '13.0', 'Pobreza alta', 'Hombre', '0-11', '372.0', '763382308416000.0', '736366176916000.0', 'Educacion', 'Xochimilco']\n['883', '2015.0', '13.0', 'Pobreza alta', 'Mujer', '45-59', '1623.0', '419803632066000.0', '28261963679300.0', 'Educacion', 'Xochimilco']\n['884', '2015.0', '13.0', 'Pobreza moderada', 'Hombre', '30-44', '12256.0', '854867786290000.0', '159633221371000.0', 'Educacion', 'Xochimilco']\n['885', '2015.0', '13.0', 'Pobreza moderada', 'Mujer', '12-29', '15731.0', '11008858955500.0', '20453141044500.0', 'Educacion', 'Xochimilco']\n['886', '2015.0', '13.0', 'Satisfaccion mínima', 'Hombre', '0-11', '16433.0', '122246491458000.0', '206413508542000.0', 'Educacion', 'Xochimilco']\n['887', '2015.0', '13.0', 'Satisfaccion mínima', 'Hombre', '12-29', '22491.0', '168016365254000.0', '281803634746000.0', 'Educacion', 'Xochimilco']\n['888', '2015.0', '13.0', 'Satisfaccion mínima', 'Hombre', '45-59', '8022.0', '570638859004000.0', '103376114100000.0', 'Educacion', 'Xochimilco']\n['889', '2015.0', '13.0', 'Satisfaccion mínima', 'Mujer', '0-11', '16195.0', '120173724867000.0', '203726275133000.0', 'Educacion', 'Xochimilco']\n['890', '2015.0', '13.0', 'Satisfaccion mínima', 'Mujer', '12-29', '22808.0', '1708459957350.0', '2853140042650.0', 'Educacion', 'Xochimilco']\n['891', '2015.0', '13.0', 'Satisfaccion mínima', 'Mujer', '45-59', '8381.0', '620237697219000.0', '105596230278000.0', 'Educacion', 'Xochimilco']\n['892', '2015.0', '13.0', 'Estrato medio', 'Hombre', '0-11', '13511.0', '102852279710000.0', '167367720290000.0', 'Educacion', 'Xochimilco']\n['893', '2015.0', '13.0', 'Estrato medio', 'Hombre', '45-59', '13783.0', '106408674913000.0', '169251325087000.0', 'Educacion', 'Xochimilco']\n['894', '2015.0', '13.0', 'Estrato medio', 'Mujer', '12-29', '18769.0', '140886014395000.0', '234493985605000.0', 'Educacion', 'Xochimilco']\n['895', '2015.0', '13.0', 'Estrato medio', 'Mujer', '45-59', '15659.0', '119380841283000.0', '193799158717000.0', 'Educacion', 'Xochimilco']\n['896', '2015.0', '13.0', 'Estrato medio', 'Mujer', '60 y mas', '7493.0', '55802119540600.0', '94057880459400.0', 'Educacion', 'Xochimilco']\n['897', '2015.0', '13.0', 'Estrato alto', 'Hombre', '12-29', '312.0', '164128693339000.0', '607587130666000.0', 'Educacion', 'Xochimilco']\n['898', '2015.0', '13.0', 'Estrato alto', 'Hombre', '30-44', '781.0', '419768231019000.0', '114223176898000.0', 'Educacion', 'Xochimilco']\n['899', '2015.0', '13.0', 'Estrato alto', 'Hombre', '60 y mas', '1518.0', '891513881078000.0', '214448611892000.0', 'Educacion', 'Xochimilco']\n['900', '2015.0', '13.0', 'Estrato alto', 'Mujer', '12-29', '362.0', '160019856715000.0', '563980143285000.0', 'Educacion', 'Xochimilco']\n['901', '2015.0', '14.0', 'Pobreza muy alta', 'Hombre', '0-11', '938.0', '485374347281000.0', '139062565272000.0', 'Educacion', 'Benito Juárez']\n['902', '2015.0', '14.0', 'Pobreza muy alta', 'Hombre', '45-59', '297.0', '32758039556500.0', '590724196044000.0', 'Educacion', 'Benito Juárez']\n['903', '2015.0', '14.0', 'Pobreza muy alta', 'Hombre', '60 y mas', '358.0', '17250091539800.0', '54349908460200.0', 'Educacion', 'Benito Juárez']\n['904', '2015.0', '14.0', 'Pobreza muy alta', 'Hombre', 'No especificado', '108.0', '-232476429872000.0', '239247642987000.0', 'Educacion', 'Benito Juárez']\n['905', '2015.0', '14.0', 'Pobreza muy alta', 'Mujer', '0-11', '650.0', '235625800729000.0', '106437419927000.0', 'Educacion', 'Benito Juárez']\n['906', '2015.0', '14.0', 'Pobreza muy alta', 'Mujer', '30-44', '546.0', '778621804824000.0', '101413781952000.0', 'Educacion', 'Benito Juárez']\n['907', '2015.0', '14.0', 'Pobreza muy alta', 'Mujer', '45-59', '665.0', '308479100932000.0', '102152089907000.0', 'Educacion', 'Benito Juárez']\n['908', '2015.0', '14.0', 'Pobreza alta', 'Hombre', '0-11', '70.0', '-126024690093000.0', '152602469009000.0', 'Educacion', 'Benito Juárez']\n['909', '2015.0', '14.0', 'Pobreza alta', 'Hombre', '30-44', '678.0', '187686489341000.0', '116831351066000.0', 'Educacion', 'Benito Juárez']\n['910', '2015.0', '14.0', 'Pobreza alta', 'Hombre', '45-59', '180.0', '234148912924000.0', '33658510870800.0', 'Educacion', 'Benito Juárez']\n['911', '2015.0', '14.0', 'Pobreza alta', 'Hombre', '60 y mas', '207.0', '-951836044224000.0', '509183604422000.0', 'Educacion', 'Benito Juárez']\n['912', '2015.0', '14.0', 'Pobreza alta', 'Mujer', '45-59', '321.0', '-203724189478000.0', '845724189478000.0', 'Educacion', 'Benito Juárez']\n['913', '2015.0', '14.0', 'Pobreza moderada', 'Hombre', '0-11', '266.0', '609323889428000.0', '525906761106000.0', 'Educacion', 'Benito Juárez']\n['914', '2015.0', '14.0', 'Pobreza moderada', 'Hombre', '30-44', '2608.0', '145060747166000.0', '376539252834000.0', 'Educacion', 'Benito Juárez']\n['915', '2015.0', '14.0', 'Pobreza moderada', 'Hombre', '45-59', '1165.0', '737823285269000.0', '159217671473000.0', 'Educacion', 'Benito Juárez']\n['916', '2015.0', '14.0', 'Pobreza moderada', 'Hombre', '60 y mas', '1704.0', '962298810482000.0', '24457011895200.0', 'Educacion', 'Benito Juárez']\n['917', '2015.0', '14.0', 'Satisfaccion mínima', 'Hombre', '0-11', '10860.0', '855435922190000.0', '131656407781000.0', 'Educacion', 'Benito Juárez']\n['918', '2015.0', '14.0', 'Satisfaccion mínima', 'Hombre', '12-29', '14995.0', '11452973923300.0', '18537026076700.0', 'Educacion', 'Benito Juárez']\n['919', '2015.0', '14.0', 'Satisfaccion mínima', 'Hombre', '30-44', '5364.0', '373130862881000.0', '699669137119000.0', 'Educacion', 'Benito Juárez']\n['920', '2015.0', '14.0', 'Satisfaccion mínima', 'Hombre', '45-59', '3150.0', '171505807509000.0', '458494192491000.0', 'Educacion', 'Benito Juárez']\n['921', '2015.0', '14.0', 'Satisfaccion mínima', 'Mujer', '0-11', '9648.0', '769341434938000.0', '116025856506000.0', 'Educacion', 'Benito Juárez']\n['922', '2015.0', '14.0', 'Estrato medio', 'Mujer', '0-11', '6825.0', '522665403146000.0', '842334596854000.0', 'Educacion', 'Benito Juárez']\n['923', '2015.0', '14.0', 'Estrato medio', 'Mujer', '30-44', '45242.0', '389159832938000.0', '515680167062000.0', 'Educacion', 'Benito Juárez']\n['924', '2015.0', '14.0', 'Estrato medio', 'Mujer', '45-59', '30269.0', '257360804513000.0', '348019195487000.0', 'Educacion', 'Benito Juárez']\n['925', '2015.0', '14.0', 'Estrato alto', 'Hombre', '30-44', '4406.0', '33115648264200.0', '55004351735800.0', 'Educacion', 'Benito Juárez']\n['926', '2015.0', '14.0', 'Estrato alto', 'Hombre', '60 y mas', '7749.0', '610194325860000.0', '939605674140000.0', 'Educacion', 'Benito Juárez']\n['927', '2015.0', '14.0', 'Estrato alto', 'Mujer', '12-29', '1967.0', '134604168622000.0', '258795831378000.0', 'Educacion', 'Benito Juárez']\n['928', '2015.0', '14.0', 'Estrato alto', 'Mujer', '45-59', '5492.0', '38803757815100.0', '710362421849000.0', 'Educacion', 'Benito Juárez']\n['929', '2015.0', '15.0', 'Pobreza muy alta', 'Hombre', '30-44', '853.0', '425389441078000.0', '128061055892000.0', 'Educacion', 'Cuauhtémoc']\n['930', '2015.0', '15.0', 'Pobreza muy alta', 'Hombre', 'No especificado', '93.0', '-102568333813000.0', '196256833381000.0', 'Educacion', 'Cuauhtémoc']\n['931', '2015.0', '15.0', 'Pobreza muy alta', 'Mujer', '12-29', '997.0', '474395900023000.0', '151960409998000.0', 'Educacion', 'Cuauhtémoc']\n['932', '2015.0', '15.0', 'Pobreza muy alta', 'Mujer', '30-44', '1088.0', '534406696212000.0', '164159330379000.0', 'Educacion', 'Cuauhtémoc']\n['933', '2015.0', '15.0', 'Pobreza alta', 'Hombre', '0-11', '316.0', '609931556827000.0', '625900684432000.0', 'Educacion', 'Cuauhtémoc']\n['934', '2015.0', '15.0', 'Pobreza alta', 'Hombre', '45-59', '313.0', '833965046745000.0', '542603495325000.0', 'Educacion', 'Cuauhtémoc']\n['935', '2015.0', '15.0', 'Pobreza alta', 'Mujer', '0-11', '385.0', '569660046092000.0', '7130339953910.0', 'Educacion', 'Cuauhtémoc']\n['936', '2015.0', '15.0', 'Pobreza alta', 'Mujer', '45-59', '1200.0', '505484235658000.0', '189451576434000.0', 'Educacion', 'Cuauhtémoc']\n['937', '2015.0', '15.0', 'Pobreza moderada', 'Hombre', '0-11', '326.0', '690922489579000.0', '582907751042000.0', 'Educacion', 'Cuauhtémoc']\n['938', '2015.0', '15.0', 'Pobreza moderada', 'Hombre', '30-44', '10311.0', '814282949112000.0', '124791705089000.0', 'Educacion', 'Cuauhtémoc']\n['939', '2015.0', '15.0', 'Pobreza moderada', 'Mujer', '0-11', '99.0', '155002193540000.0', '182499780646000.0', 'Educacion', 'Cuauhtémoc']\n['940', '2015.0', '15.0', 'Satisfaccion mínima', 'Hombre', '45-59', '9294.0', '77709196818600.0', '108170803181000.0', 'Educacion', 'Cuauhtémoc']\n['941', '2015.0', '15.0', 'Satisfaccion mínima', 'Hombre', '60 y mas', '7011.0', '531648666489000.0', '870551333511000.0', 'Educacion', 'Cuauhtémoc']\n['942', '2015.0', '15.0', 'Estrato medio', 'Mujer', '0-11', '11001.0', '908139329185000.0', '129206067082000.0', 'Educacion', 'Cuauhtémoc']\n['943', '2015.0', '15.0', 'Estrato medio', 'Mujer', '12-29', '30973.0', '250646814005000.0', '368813185995000.0', 'Educacion', 'Cuauhtémoc']\n['944', '2015.0', '15.0', 'Estrato medio', 'Mujer', '45-59', '27630.0', '230363804415000.0', '322236195585000.0', 'Educacion', 'Cuauhtémoc']\n['945', '2015.0', '15.0', 'Estrato medio', 'Mujer', '60 y mas', '20677.0', '169985206202000.0', '243554793798000.0', 'Educacion', 'Cuauhtémoc']\n['946', '2015.0', '15.0', 'Estrato alto', 'Hombre', '45-59', '4467.0', '318257472531000.0', '575142527469000.0', 'Educacion', 'Cuauhtémoc']\n['947', '2015.0', '15.0', 'Estrato alto', 'Hombre', '60 y mas', '4170.0', '298844815990000.0', '535155184010000.0', 'Educacion', 'Cuauhtémoc']\n['948', '2015.0', '15.0', 'Estrato alto', 'Mujer', '12-29', '1831.0', '115352613319000.0', '250847386681000.0', 'Educacion', 'Cuauhtémoc']\n['949', '2015.0', '15.0', 'Estrato alto', 'Mujer', '45-59', '3201.0', '216046228678000.0', '424153771322000.0', 'Educacion', 'Cuauhtémoc']\n['950', '2015.0', '16.0', 'Pobreza muy alta', 'Hombre', '12-29', '322.0', '125472724081000.0', '518527275919000.0', 'Educacion', 'Miguel Hidalgo']\n['951', '2015.0', '16.0', 'Pobreza muy alta', 'Mujer', '12-29', '299.0', '419032615697000.0', '556096738430000.0', 'Educacion', 'Miguel Hidalgo']\n['952', '2015.0', '16.0', 'Pobreza alta', 'Hombre', '0-11', '75.0', '-290807442221000.0', '179080744222000.0', 'Educacion', 'Miguel Hidalgo']\n['953', '2015.0', '16.0', 'Pobreza alta', 'Hombre', '30-44', '733.0', '356087943828000.0', '110991205617000.0', 'Educacion', 'Miguel Hidalgo']\n['954', '2015.0', '16.0', 'Pobreza alta', 'Hombre', '45-59', '155.0', '277211130396000.0', '282278886960000.0', 'Educacion', 'Miguel Hidalgo']\n['955', '2015.0', '16.0', 'Pobreza alta', 'Hombre', '60 y mas', '622.0', '237394215794000.0', '100660578421000.0', 'Educacion', 'Miguel Hidalgo']\n['956', '2015.0', '16.0', 'Pobreza moderada', 'Mujer', '0-11', '79.0', '-765461962057000.0', '158765461962000.0', 'Educacion', 'Miguel Hidalgo']\n['957', '2015.0', '16.0', 'Pobreza moderada', 'Mujer', '30-44', '3974.0', '257038231074000.0', '537761768926000.0', 'Educacion', 'Miguel Hidalgo']\n['958', '2015.0', '16.0', 'Pobreza moderada', 'Mujer', '60 y mas', '5161.0', '348593904832000.0', '683606095168000.0', 'Educacion', 'Miguel Hidalgo']\n['959', '2015.0', '16.0', 'Satisfaccion mínima', 'Hombre', '12-29', '14491.0', '100513440394000.0', '189306559606000.0', 'Educacion', 'Miguel Hidalgo']\n['960', '2015.0', '16.0', 'Satisfaccion mínima', 'Hombre', '30-44', '6774.0', '45761622475100.0', '89718377524900.0', 'Educacion', 'Miguel Hidalgo']\n['961', '2015.0', '16.0', 'Satisfaccion mínima', 'Hombre', '45-59', '4626.0', '288510083725000.0', '636689916275000.0', 'Educacion', 'Miguel Hidalgo']\n['962', '2015.0', '16.0', 'Satisfaccion mínima', 'Hombre', '60 y mas', '3452.0', '225002759461000.0', '465397240539000.0', 'Educacion', 'Miguel Hidalgo']\n['963', '2015.0', '16.0', 'Satisfaccion mínima', 'Mujer', '0-11', '9889.0', '643412703983000.0', '133438729602000.0', 'Educacion', 'Miguel Hidalgo']\n['964', '2015.0', '16.0', 'Satisfaccion mínima', 'Mujer', '12-29', '14098.0', '100270861159000.0', '181689138841000.0', 'Educacion', 'Miguel Hidalgo']\n['965', '2015.0', '16.0', 'Satisfaccion mínima', 'Mujer', '60 y mas', '6765.0', '49097991803200.0', '86202008196800.0', 'Educacion', 'Miguel Hidalgo']\n['966', '2015.0', '16.0', 'Estrato medio', 'Hombre', '12-29', '19567.0', '129300991680000.0', '262039008320000.0', 'Educacion', 'Miguel Hidalgo']\n['967', '2015.0', '16.0', 'Estrato medio', 'Hombre', '30-44', '28697.0', '188821714572000.0', '385118285428000.0', 'Educacion', 'Miguel Hidalgo']\n['968', '2015.0', '16.0', 'Estrato medio', 'Hombre', '45-59', '18661.0', '141496477516000.0', '231723522484000.0', 'Educacion', 'Miguel Hidalgo']\n['969', '2015.0', '16.0', 'Estrato medio', 'Mujer', '60 y mas', '16722.0', '127059693916000.0', '207380306084000.0', 'Educacion', 'Miguel Hidalgo']\n['970', '2015.0', '16.0', 'Estrato alto', 'Hombre', '60 y mas', '5476.0', '358885128946000.0', '736314871054000.0', 'Educacion', 'Miguel Hidalgo']\n['971', '2015.0', '16.0', 'Estrato alto', 'Mujer', '0-11', '3778.0', '224651635238000.0', '530948364762000.0', 'Educacion', 'Miguel Hidalgo']\n['972', '2015.0', '16.0', 'Estrato alto', 'Mujer', '45-59', '3302.0', '178314715165000.0', '482085284835000.0', 'Educacion', 'Miguel Hidalgo']\n['973', '2015.0', '17.0', 'Pobreza muy alta', 'Hombre', '0-11', '2103.0', '141695388317000.0', '278904611683000.0', 'Educacion', 'Venustiano Carranza']\n['974', '2015.0', '17.0', 'Pobreza muy alta', 'Hombre', '60 y mas', '1143.0', '585423794213000.0', '170057620579000.0', 'Educacion', 'Venustiano Carranza']\n['975', '2015.0', '17.0', 'Pobreza alta', 'Hombre', '0-11', '190.0', '-706969228163000.0', '450696922816000.0', 'Educacion', 'Venustiano Carranza']\n['976', '2015.0', '17.0', 'Pobreza alta', 'Hombre', '30-44', '1388.0', '759420464592000.0', '201657953541000.0', 'Educacion', 'Venustiano Carranza']\n['977', '2015.0', '17.0', 'Pobreza alta', 'Mujer', '12-29', '1364.0', '850310255682000.0', '187768974432000.0', 'Educacion', 'Venustiano Carranza']\n['978', '2015.0', '17.0', 'Pobreza alta', 'Mujer', '30-44', '1821.0', '11946380294000.0', '24473619706000.0', 'Educacion', 'Venustiano Carranza']\n['979', '2015.0', '17.0', 'Pobreza moderada', 'Hombre', '60 y mas', '5194.0', '399135163344000.0', '639664836656000.0', 'Educacion', 'Venustiano Carranza']\n['980', '2015.0', '17.0', 'Pobreza moderada', 'Mujer', '12-29', '12531.0', '950817895390000.0', '155538210461000.0', 'Educacion', 'Venustiano Carranza']\n['981', '2015.0', '17.0', 'Pobreza moderada', 'Mujer', '60 y mas', '8781.0', '661840626530000.0', '10943593734700.0', 'Educacion', 'Venustiano Carranza']\n['982', '2015.0', '17.0', 'Satisfaccion mínima', 'Hombre', '0-11', '13178.0', '105900554846000.0', '157659445154000.0', 'Educacion', 'Venustiano Carranza']\n['983', '2015.0', '17.0', 'Satisfaccion mínima', 'Hombre', '60 y mas', '6798.0', '533275701726000.0', '826324298274000.0', 'Educacion', 'Venustiano Carranza']\n['984', '2015.0', '17.0', 'Estrato medio', 'Mujer', '30-44', '24033.0', '195632628993000.0', '285027371007000.0', 'Educacion', 'Venustiano Carranza']\n['985', '2015.0', '17.0', 'Estrato alto', 'Hombre', '0-11', '4670.0', '348765719026.0', '585234280974.0', 'Educacion', 'Venustiano Carranza']\n['986', '2015.0', '17.0', 'Estrato alto', 'Hombre', '12-29', '550.0', '226210134080000.0', '873789865920000.0', 'Educacion', 'Venustiano Carranza']\n['987', '2015.0', '17.0', 'Estrato alto', 'Mujer', '0-11', '4710.0', '355287124041000.0', '586712875959000.0', 'Educacion', 'Venustiano Carranza']\n['988', '2015.0', '17.0', 'Estrato alto', 'Mujer', '12-29', '466.0', '164997679382000.0', '767002320618000.0', 'Educacion', 'Venustiano Carranza']\n['989', '2015.0', '17.0', 'Estrato alto', 'Mujer', '45-59', '1142.0', '609967456811000.0', '167403254319000.0', 'Educacion', 'Venustiano Carranza']\n"
     ]
    }
   ],
   "source": [
    "import urllib.request as ur\n",
    "import csv\n",
    "\n",
    "r = ur.urlopen(remoto)\n",
    "lineas = [l.decode('utf-8') for l in r.readlines()]\n",
    "\n",
    "archivo_csv = csv.reader(lineas)\n",
    "\n",
    "for r in archivo_csv:\n",
    "    print(r)"
   ]
  },
  {
   "source": [
    "## La manera extremadamente fácil\n",
    "\n",
    "Con `pandas`"
   ],
   "cell_type": "markdown",
   "metadata": {}
  },
  {
   "cell_type": "code",
   "execution_count": 14,
   "metadata": {},
   "outputs": [
    {
     "output_type": "stream",
     "name": "stdout",
     "text": [
      "   id    anio  mun          estratos    sexo      edad   total     total_low  \\\n0   0  2015.0  2.0  Pobreza muy alta  Hombre     12-29   471.0  1.428821e+14   \n1   1  2015.0  2.0  Pobreza muy alta  Hombre     30-44   704.0  2.738738e+14   \n2   2  2015.0  2.0  Pobreza muy alta  Hombre  60 y mas  2575.0  1.617936e+14   \n3   3  2015.0  2.0  Pobreza muy alta   Mujer     30-44   898.0  4.676627e+14   \n4   4  2015.0  2.0  Pobreza muy alta   Mujer     45-59  1239.0  6.608173e+14   \n\n      total_upp        dim        nomgeo  \n0  7.991179e+14  Educacion  Azcapotzalco  \n1  1.134126e+14  Educacion  Azcapotzalco  \n2  3.532064e+14  Educacion  Azcapotzalco  \n3  1.328337e+14  Educacion  Azcapotzalco  \n4  1.817183e+14  Educacion  Azcapotzalco  \n"
     ]
    }
   ],
   "source": [
    "import pandas as pd\n",
    "\n",
    "df = pd.read_csv(remoto)\n",
    "print(df.head())"
   ]
  },
  {
   "cell_type": "code",
   "execution_count": 15,
   "metadata": {},
   "outputs": [
    {
     "output_type": "stream",
     "name": "stdout",
     "text": [
      "   _id  id  anio  mun          estratos    sexo      edad  total  \\\n0    1   0  2015    2  Pobreza muy alta  Hombre     12-29    471   \n1    2   1  2015    2  Pobreza muy alta  Hombre     30-44    704   \n2    3   2  2015    2  Pobreza muy alta  Hombre  60 y mas   2575   \n3    4   3  2015    2  Pobreza muy alta   Mujer     30-44    898   \n4    5   4  2015    2  Pobreza muy alta   Mujer     45-59   1239   \n\n         total_low        total_upp        dim        nomgeo  \n0  142882133722000  799117866278000  Educacion  Azcapotzalco  \n1  273873773687000  113412622631000  Educacion  Azcapotzalco  \n2  161793608889000  353206391111000  Educacion  Azcapotzalco  \n3  467662689091000  132833731091000  Educacion  Azcapotzalco  \n4  660817323638000  181718267636000  Educacion  Azcapotzalco  \n"
     ]
    }
   ],
   "source": [
    "df_local = pd.read_csv(local)\n",
    "print(df_local.head())"
   ]
  },
  {
   "source": [
    "## Ahora, conozcamos un poco sobre cómo están estructurados nuestros datos\n",
    "\n",
    "### DataFrame\n",
    "\n",
    "Al recuperar los datos, `pandas` transforma la información en un tipo de objeto llamado `DataFrame`, que es básicamente una matriz de datos en el que cada fila corresponde a un objeto y cada columna a una variable.\n",
    "\n",
    "Los DataFrames pueden ser modificados de manera dinámica, pero se deben seguir ciertas reglas para evitar que la información se elimine o cambie de forma indeseada.\n",
    "\n",
    "Podemos comprobar que nuestro archivo `csv` ahora es un DataFrame si imprimimos el tipo de la variable `df`:"
   ],
   "cell_type": "markdown",
   "metadata": {}
  },
  {
   "cell_type": "code",
   "execution_count": 16,
   "metadata": {},
   "outputs": [
    {
     "output_type": "stream",
     "name": "stdout",
     "text": [
      "<class 'pandas.core.frame.DataFrame'>\n"
     ]
    }
   ],
   "source": [
    "print(type(df))"
   ]
  },
  {
   "source": [
    "\n",
    "\n",
    "### Tamaño\n",
    "\n",
    "* ¿Cuántas filas y columnas tiene esta tabla?\n",
    "- Para eso, utilizaremos la función `shape` de pandas."
   ],
   "cell_type": "markdown",
   "metadata": {}
  },
  {
   "cell_type": "code",
   "execution_count": 17,
   "metadata": {},
   "outputs": [
    {
     "output_type": "stream",
     "name": "stdout",
     "text": [
      "(990, 11)\nEsta tabla tiene 990 filas y 11 columnas\n"
     ]
    }
   ],
   "source": [
    "tamagno = df.shape\n",
    "num_filas = tamagno[0]\n",
    "num_columns = tamagno[1]\n",
    "\n",
    "print(tamagno)\n",
    "print(\"Esta tabla tiene {} filas y {} columnas\".format(num_filas, num_columns))"
   ]
  },
  {
   "source": [
    "^ la función `shape` regresa un tipo de archivo llamado *tuple* o *tupla*, que consiste en una lista ordenada de objetos. Podemos comprobarlo simplemente imprimiendo el tipo de dato:"
   ],
   "cell_type": "markdown",
   "metadata": {}
  },
  {
   "cell_type": "code",
   "execution_count": 18,
   "metadata": {},
   "outputs": [
    {
     "output_type": "stream",
     "name": "stdout",
     "text": [
      "<class 'tuple'>\n"
     ]
    }
   ],
   "source": [
    "print(type(tamagno))"
   ]
  },
  {
   "source": [
    "### ¿Cuáles columnas tenemos en nuestro DataFrame?\n",
    "\n",
    "Como habrás visto, cuando imprimimos los datos del DataFrame, no nos presenta toda la información, por eso aparecen tres puntos suspensivos entre las columnas.\n",
    "\n",
    "Para saber el nombre de cada columna (y poder hacer búsquedas posteriormente) podemos utilizar la función `columns` de pandas:"
   ],
   "cell_type": "markdown",
   "metadata": {}
  },
  {
   "cell_type": "code",
   "execution_count": 19,
   "metadata": {},
   "outputs": [
    {
     "output_type": "stream",
     "name": "stdout",
     "text": [
      "Index(['id', 'anio', 'mun', 'estratos', 'sexo', 'edad', 'total', 'total_low',\n       'total_upp', 'dim', 'nomgeo'],\n      dtype='object')\n"
     ]
    }
   ],
   "source": [
    "print(df.columns)"
   ]
  },
  {
   "source": [
    "### ¿Qué datos tenemos en el DataFrame?\n",
    "\n",
    "Ahora sabemos el tamaño del DataFrame y el nombre de sus columnas. Pero, para hacer operaciones (como sumar, restar, hallar medias, etc.) tendremos que identificar cuáles son los tipos de datos que tenemos en nuestro DataFrame.\n",
    "\n",
    "Para ello, usaremos la función `dtypes` de pandas:"
   ],
   "cell_type": "markdown",
   "metadata": {}
  },
  {
   "cell_type": "code",
   "execution_count": 20,
   "metadata": {},
   "outputs": [
    {
     "output_type": "stream",
     "name": "stdout",
     "text": [
      "id             int64\nanio         float64\nmun          float64\nestratos      object\nsexo          object\nedad          object\ntotal        float64\ntotal_low    float64\ntotal_upp    float64\ndim           object\nnomgeo        object\ndtype: object\n"
     ]
    }
   ],
   "source": [
    "print(df.dtypes)"
   ]
  },
  {
   "source": [
    "^ Analiza los tipos de datos que tenemos en el DataFrame:\n",
    "\n",
    "* int64 = números enteros\n",
    "* float64 = números decimales\n",
    "* object = objeto de pandas (puede ser un diccionario, un numpy.array, una lista...)\n",
    "\n"
   ],
   "cell_type": "markdown",
   "metadata": {}
  },
  {
   "source": [
    "# Manipular la información del DataFrame\n",
    "\n",
    "## ¿Qué información hay en una columna específica?\n",
    "\n",
    "Para ver qué información tiene una columna específica vamos a utilizar el siguiente método:"
   ],
   "cell_type": "markdown",
   "metadata": {}
  },
  {
   "cell_type": "code",
   "execution_count": 23,
   "metadata": {},
   "outputs": [
    {
     "output_type": "stream",
     "name": "stdout",
     "text": [
      "0    Hombre\n1    Hombre\n2    Hombre\n3     Mujer\n4     Mujer\n5    Hombre\n6    Hombre\n7    Hombre\n8     Mujer\n9    Hombre\nName: sexo, dtype: object\n"
     ]
    }
   ],
   "source": [
    "col_nombre = df['sexo']\n",
    "\n",
    "print(col_nombre[:10])"
   ]
  },
  {
   "cell_type": "code",
   "execution_count": 24,
   "metadata": {},
   "outputs": [
    {
     "output_type": "stream",
     "name": "stdout",
     "text": [
      "      id    anio   mun             estratos   sexo      edad    total  \\\n3      3  2015.0   2.0     Pobreza muy alta  Mujer     30-44    898.0   \n4      4  2015.0   2.0     Pobreza muy alta  Mujer     45-59   1239.0   \n8      8  2015.0   2.0         Pobreza alta  Mujer  60 y mas   1593.0   \n10    10  2015.0   2.0  Satisfaccion mínima  Mujer      0-11  11630.0   \n11    11  2015.0   2.0        Estrato medio  Mujer     12-29  21780.0   \n..   ...     ...   ...                  ...    ...       ...      ...   \n981  981  2015.0  17.0     Pobreza moderada  Mujer  60 y mas   8781.0   \n984  984  2015.0  17.0        Estrato medio  Mujer     30-44  24033.0   \n987  987  2015.0  17.0         Estrato alto  Mujer      0-11   4710.0   \n988  988  2015.0  17.0         Estrato alto  Mujer     12-29    466.0   \n989  989  2015.0  17.0         Estrato alto  Mujer     45-59   1142.0   \n\n        total_low     total_upp        dim               nomgeo  \n3    4.676627e+14  1.328337e+14  Educacion         Azcapotzalco  \n4    6.608173e+14  1.817183e+14  Educacion         Azcapotzalco  \n8    9.673120e+14  2.218688e+14  Educacion         Azcapotzalco  \n10   9.252596e+14  1.400740e+14  Educacion         Azcapotzalco  \n11   1.831693e+14  2.524307e+14  Educacion         Azcapotzalco  \n..            ...           ...        ...                  ...  \n981  6.618406e+14  1.094359e+13  Educacion  Venustiano Carranza  \n984  1.956326e+14  2.850274e+14  Educacion  Venustiano Carranza  \n987  3.552871e+14  5.867129e+14  Educacion  Venustiano Carranza  \n988  1.649977e+14  7.670023e+14  Educacion  Venustiano Carranza  \n989  6.099675e+14  1.674033e+14  Educacion  Venustiano Carranza  \n\n[495 rows x 11 columns]\n"
     ]
    }
   ],
   "source": [
    "print(df.loc[df['sexo'] == \"Mujer\"])\n"
   ]
  },
  {
   "source": [
    "¿Y si queremos ver por sexo y localidad?\n",
    "\n",
    "Utilizamos el mismo método (`loc`) pero ahora buscamos dos valores. Si lo verbalizamos es como pedirle a la máquina:\n",
    "\n",
    "Búscame en el DataFrame todos los valores en los que el sexo sea 'Mujer' y el nombre de la localidad (`nomgeo`) sea igual a 'Azcapotzalco'. En código será lo siguiente:"
   ],
   "cell_type": "markdown",
   "metadata": {}
  },
  {
   "cell_type": "code",
   "execution_count": 28,
   "metadata": {},
   "outputs": [
    {
     "output_type": "stream",
     "name": "stdout",
     "text": [
      "      id    anio  mun             estratos   sexo      edad    total  \\\n3      3  2015.0  2.0     Pobreza muy alta  Mujer     30-44    898.0   \n4      4  2015.0  2.0     Pobreza muy alta  Mujer     45-59   1239.0   \n8      8  2015.0  2.0         Pobreza alta  Mujer  60 y mas   1593.0   \n10    10  2015.0  2.0  Satisfaccion mínima  Mujer      0-11  11630.0   \n11    11  2015.0  2.0        Estrato medio  Mujer     12-29  21780.0   \n323  323  2015.0  2.0     Pobreza muy alta  Mujer      0-11   1500.0   \n324  324  2015.0  2.0     Pobreza muy alta  Mujer  60 y mas   6130.0   \n326  326  2015.0  2.0         Pobreza alta  Mujer     12-29    800.0   \n327  327  2015.0  2.0         Pobreza alta  Mujer     30-44   1196.0   \n328  328  2015.0  2.0         Pobreza alta  Mujer     45-59    749.0   \n\n        total_low     total_upp        dim        nomgeo  \n3    4.676627e+14  1.328337e+14  Educacion  Azcapotzalco  \n4    6.608173e+14  1.817183e+14  Educacion  Azcapotzalco  \n8    9.673120e+14  2.218688e+14  Educacion  Azcapotzalco  \n10   9.252596e+14  1.400740e+14  Educacion  Azcapotzalco  \n11   1.831693e+14  2.524307e+14  Educacion  Azcapotzalco  \n323  8.697557e+14  2.130244e+13  Educacion  Azcapotzalco  \n324  4.238256e+14  8.021744e+14  Educacion  Azcapotzalco  \n326  3.518572e+14  1.248143e+14  Educacion  Azcapotzalco  \n327  7.473386e+14  1.644661e+14  Educacion  Azcapotzalco  \n328  4.033656e+14  1.094634e+14  Educacion  Azcapotzalco  \n"
     ]
    }
   ],
   "source": [
    "sex_loc = df.loc[(df['sexo'] == 'Mujer') & (df['nomgeo'] == 'Azcapotzalco')]\n",
    "print(sex_loc[:10])"
   ]
  },
  {
   "source": [
    "# Referencias\n",
    "\n",
    "## Documentación\n",
    "\n",
    "* [The Programming Historian: Python](https://programminghistorian.org/es/lecciones/?topic=python)\n",
    "* [pandas documentation](https://pandas.pydata.org/pandas-docs/stable/index.html)\n",
    "* [plotly open source graphing libraries](https://plotly.com/python/)\n",
    "* [dash open-source](https://dash.plotly.com/)\n",
    "\n",
    "\n",
    "## Bibliografía\n",
    "\n",
    "* McKinney, Wes. *Python for data analysis: data wrangling with pandas, NumPy, and IPython*. Second edition, O’Reilly Media, Inc, 2018.\n",
    "* Pajankar, Ashwin. *Practical Python Data Visualization: A Fast Track Approach to Learning Data Visualization with Python*. 2021.\n",
    "* Stepanek, y Suresh John. *Thinking in Pandas*. Apress, 2020. Open WorldCat, https://link.springer.com/10.1007/978-1-4842-5839-2.\n",
    "\n"
   ],
   "cell_type": "markdown",
   "metadata": {}
  }
 ]
}